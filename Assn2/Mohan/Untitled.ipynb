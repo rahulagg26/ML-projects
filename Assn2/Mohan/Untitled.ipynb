{
 "cells": [
  {
   "cell_type": "code",
   "execution_count": 8,
   "id": "e3780e4d",
   "metadata": {},
   "outputs": [],
   "source": [
    "#RUN THIS CELL \n",
    "import requests\n",
    "from IPython.core.display import HTML\n",
    "\n",
    "# Import libraries\n",
    "%matplotlib inline\n",
    "import math\n",
    "import numpy as np\n",
    "import pandas as pd\n",
    "#import seaborn as sns\n",
    "from collections import Counter\n",
    "import matplotlib.pyplot as plt\n",
    "from sklearn.utils import shuffle\n",
    "from sklearn.linear_model import Lasso\n",
    "from sklearn.preprocessing import StandardScaler\n",
    "from sklearn.metrics import mean_squared_error\n",
    "from sklearn.linear_model import LinearRegression\n",
    "from sklearn.model_selection import cross_validate\n",
    "from sklearn.model_selection import train_test_split\n",
    "from sklearn.preprocessing import PolynomialFeatures\n",
    "from sklearn.linear_model import LogisticRegression\n",
    "from sklearn.model_selection import cross_val_score\n",
    "from sklearn.metrics import accuracy_score\n",
    "from sklearn.model_selection import KFold\n",
    "from sklearn.metrics import roc_auc_score\n",
    "from sklearn.metrics import roc_curve\n",
    "#sns.set()\n",
    "\n",
    "import warnings\n",
    "from sklearn.metrics import confusion_matrix\n",
    "from sklearn.tree import DecisionTreeClassifier\n",
    "\n",
    "from sklearn import datasets,tree\n",
    "\n",
    "#from tqdm import tqdm\n",
    "import time\n",
    "from sklearn.model_selection import cross_val_score, train_test_split, GridSearchCV, KFold\n",
    "from sklearn.metrics import accuracy_score, confusion_matrix, ConfusionMatrixDisplay, f1_score, roc_auc_score\n",
    "from sklearn.metrics import recall_score, precision_score, classification_report, roc_curve\n",
    "from sklearn import tree\n",
    "from sklearn.tree import DecisionTreeClassifier\n",
    "from sklearn.ensemble import RandomForestClassifier\n",
    "from sklearn.linear_model import LogisticRegression\n",
    "from sklearn.inspection import permutation_importance\n",
    "#from imblearn.over_sampling import SMOTE\n",
    "#from imblearn.under_sampling import RandomUnderSampler\n",
    "from sklearn.impute import SimpleImputer\n",
    "%matplotlib inline"
   ]
  },
  {
   "cell_type": "code",
   "execution_count": 9,
   "id": "d7ebcb8f",
   "metadata": {},
   "outputs": [],
   "source": [
    "import utils\n",
    "import scipy\n",
    "import sklearn\n",
    "from sklearn.tree import DecisionTreeClassifier\n",
    "from sklearn.model_selection import train_test_split\n",
    "from sklearn.metrics import accuracy_score\n",
    "\n",
    "dictSize = 225\n",
    "(X_raw, y_raw) = utils.loadData( \"train\", dictSize = dictSize )"
   ]
  },
  {
   "cell_type": "code",
   "execution_count": 10,
   "id": "de9de786",
   "metadata": {},
   "outputs": [],
   "source": [
    "X1=X_raw.toarray()\n",
    "y1=y_raw "
   ]
  },
  {
   "cell_type": "code",
   "execution_count": 11,
   "id": "b1f2ca42",
   "metadata": {},
   "outputs": [],
   "source": [
    "# print (np.unique(y))\n",
    "# unique, counts = np.unique(y, return_counts=True)\n",
    "# print (unique)\n",
    "# print (counts)"
   ]
  },
  {
   "cell_type": "code",
   "execution_count": 12,
   "id": "9ab7195d",
   "metadata": {},
   "outputs": [
    {
     "name": "stdout",
     "output_type": "stream",
     "text": [
      "(10000, 225)\n",
      "(10000,)\n"
     ]
    }
   ],
   "source": [
    "print(X1.shape)\n",
    "print(y1.shape)"
   ]
  },
  {
   "cell_type": "code",
   "execution_count": 13,
   "id": "5a797d0c",
   "metadata": {},
   "outputs": [],
   "source": [
    "X_train, X_test, y_train, y_test=train_test_split(X1,y1,test_size=0.2)\n",
    "\n",
    "# sm = SMOTE()\n",
    "# X_train_SMOTE, y_train_SMOTE = sm.fit_resample(X_train, y_train)\n"
   ]
  },
  {
   "cell_type": "code",
   "execution_count": 14,
   "id": "8abeeb3d",
   "metadata": {},
   "outputs": [],
   "source": [
    "rf=RandomForestClassifier(class_weight=\"balanced\")"
   ]
  },
  {
   "cell_type": "code",
   "execution_count": 15,
   "id": "c32b62b1",
   "metadata": {},
   "outputs": [
    {
     "data": {
      "text/html": [
       "<style>#sk-container-id-1 {color: black;background-color: white;}#sk-container-id-1 pre{padding: 0;}#sk-container-id-1 div.sk-toggleable {background-color: white;}#sk-container-id-1 label.sk-toggleable__label {cursor: pointer;display: block;width: 100%;margin-bottom: 0;padding: 0.3em;box-sizing: border-box;text-align: center;}#sk-container-id-1 label.sk-toggleable__label-arrow:before {content: \"▸\";float: left;margin-right: 0.25em;color: #696969;}#sk-container-id-1 label.sk-toggleable__label-arrow:hover:before {color: black;}#sk-container-id-1 div.sk-estimator:hover label.sk-toggleable__label-arrow:before {color: black;}#sk-container-id-1 div.sk-toggleable__content {max-height: 0;max-width: 0;overflow: hidden;text-align: left;background-color: #f0f8ff;}#sk-container-id-1 div.sk-toggleable__content pre {margin: 0.2em;color: black;border-radius: 0.25em;background-color: #f0f8ff;}#sk-container-id-1 input.sk-toggleable__control:checked~div.sk-toggleable__content {max-height: 200px;max-width: 100%;overflow: auto;}#sk-container-id-1 input.sk-toggleable__control:checked~label.sk-toggleable__label-arrow:before {content: \"▾\";}#sk-container-id-1 div.sk-estimator input.sk-toggleable__control:checked~label.sk-toggleable__label {background-color: #d4ebff;}#sk-container-id-1 div.sk-label input.sk-toggleable__control:checked~label.sk-toggleable__label {background-color: #d4ebff;}#sk-container-id-1 input.sk-hidden--visually {border: 0;clip: rect(1px 1px 1px 1px);clip: rect(1px, 1px, 1px, 1px);height: 1px;margin: -1px;overflow: hidden;padding: 0;position: absolute;width: 1px;}#sk-container-id-1 div.sk-estimator {font-family: monospace;background-color: #f0f8ff;border: 1px dotted black;border-radius: 0.25em;box-sizing: border-box;margin-bottom: 0.5em;}#sk-container-id-1 div.sk-estimator:hover {background-color: #d4ebff;}#sk-container-id-1 div.sk-parallel-item::after {content: \"\";width: 100%;border-bottom: 1px solid gray;flex-grow: 1;}#sk-container-id-1 div.sk-label:hover label.sk-toggleable__label {background-color: #d4ebff;}#sk-container-id-1 div.sk-serial::before {content: \"\";position: absolute;border-left: 1px solid gray;box-sizing: border-box;top: 0;bottom: 0;left: 50%;z-index: 0;}#sk-container-id-1 div.sk-serial {display: flex;flex-direction: column;align-items: center;background-color: white;padding-right: 0.2em;padding-left: 0.2em;position: relative;}#sk-container-id-1 div.sk-item {position: relative;z-index: 1;}#sk-container-id-1 div.sk-parallel {display: flex;align-items: stretch;justify-content: center;background-color: white;position: relative;}#sk-container-id-1 div.sk-item::before, #sk-container-id-1 div.sk-parallel-item::before {content: \"\";position: absolute;border-left: 1px solid gray;box-sizing: border-box;top: 0;bottom: 0;left: 50%;z-index: -1;}#sk-container-id-1 div.sk-parallel-item {display: flex;flex-direction: column;z-index: 1;position: relative;background-color: white;}#sk-container-id-1 div.sk-parallel-item:first-child::after {align-self: flex-end;width: 50%;}#sk-container-id-1 div.sk-parallel-item:last-child::after {align-self: flex-start;width: 50%;}#sk-container-id-1 div.sk-parallel-item:only-child::after {width: 0;}#sk-container-id-1 div.sk-dashed-wrapped {border: 1px dashed gray;margin: 0 0.4em 0.5em 0.4em;box-sizing: border-box;padding-bottom: 0.4em;background-color: white;}#sk-container-id-1 div.sk-label label {font-family: monospace;font-weight: bold;display: inline-block;line-height: 1.2em;}#sk-container-id-1 div.sk-label-container {text-align: center;}#sk-container-id-1 div.sk-container {/* jupyter's `normalize.less` sets `[hidden] { display: none; }` but bootstrap.min.css set `[hidden] { display: none !important; }` so we also need the `!important` here to be able to override the default hidden behavior on the sphinx rendered scikit-learn.org. See: https://github.com/scikit-learn/scikit-learn/issues/21755 */display: inline-block !important;position: relative;}#sk-container-id-1 div.sk-text-repr-fallback {display: none;}</style><div id=\"sk-container-id-1\" class=\"sk-top-container\"><div class=\"sk-text-repr-fallback\"><pre>RandomForestClassifier(class_weight=&#x27;balanced&#x27;)</pre><b>In a Jupyter environment, please rerun this cell to show the HTML representation or trust the notebook. <br />On GitHub, the HTML representation is unable to render, please try loading this page with nbviewer.org.</b></div><div class=\"sk-container\" hidden><div class=\"sk-item\"><div class=\"sk-estimator sk-toggleable\"><input class=\"sk-toggleable__control sk-hidden--visually\" id=\"sk-estimator-id-1\" type=\"checkbox\" checked><label for=\"sk-estimator-id-1\" class=\"sk-toggleable__label sk-toggleable__label-arrow\">RandomForestClassifier</label><div class=\"sk-toggleable__content\"><pre>RandomForestClassifier(class_weight=&#x27;balanced&#x27;)</pre></div></div></div></div></div>"
      ],
      "text/plain": [
       "RandomForestClassifier(class_weight='balanced')"
      ]
     },
     "execution_count": 15,
     "metadata": {},
     "output_type": "execute_result"
    }
   ],
   "source": [
    "rf.fit(X_train,y_train)"
   ]
  },
  {
   "cell_type": "code",
   "execution_count": 16,
   "id": "c7f46c7b",
   "metadata": {},
   "outputs": [],
   "source": [
    "y_pred=rf.predict(X_test)"
   ]
  },
  {
   "cell_type": "code",
   "execution_count": 17,
   "id": "58fcb0ea",
   "metadata": {},
   "outputs": [
    {
     "data": {
      "text/plain": [
       "array([ 4., 30.,  4., ..., 13.,  7.,  8.])"
      ]
     },
     "execution_count": 17,
     "metadata": {},
     "output_type": "execute_result"
    }
   ],
   "source": [
    "y_pred"
   ]
  },
  {
   "cell_type": "code",
   "execution_count": 18,
   "id": "648cc735",
   "metadata": {},
   "outputs": [],
   "source": [
    "proba2=rf.predict_proba(X_test)"
   ]
  },
  {
   "cell_type": "code",
   "execution_count": 19,
   "id": "c48c9725",
   "metadata": {},
   "outputs": [],
   "source": [
    "ind2 = np.argsort(proba2)[:,-1:-6:-1]"
   ]
  },
  {
   "cell_type": "code",
   "execution_count": 20,
   "id": "7ef02bd0",
   "metadata": {},
   "outputs": [],
   "source": [
    "yPred2 = rf.classes_[ind2]"
   ]
  },
  {
   "cell_type": "code",
   "execution_count": 21,
   "id": "408b8cef",
   "metadata": {},
   "outputs": [
    {
     "name": "stdout",
     "output_type": "stream",
     "text": [
      "prec@1: 0.744 prec@3: 0.907 prec@5: 0.957\n",
      "mprec@1: 5.808e-01 mprec@3: 7.470e-01 mprec@5: 8.161e-01\n"
     ]
    }
   ],
   "source": [
    "preck = utils.getPrecAtK( y_test, yPred2, 5 )\n",
    "# The macro precision code takes a bit longer to execute due to the for loop over labels\n",
    "mpreck = utils.getMPrecAtK( y_test,yPred2, 5 )\n",
    "\n",
    "# According to our definitions, both prec@k and mprec@k should go up as k goes up i.e. for your\n",
    "# method, prec@i > prec@j if i > j and mprec@i > mprec@j if i > j. See the assignment description\n",
    "# to convince yourself why this must be the case.\n",
    "\n",
    "print( \"prec@1: %0.3f\" % preck[0], \"prec@3: %0.3f\" % preck[2], \"prec@5: %0.3f\" % preck[4] )\n",
    "# Dont be surprised if mprec is small -- it is hard to do well on rare error classes\n",
    "print( \"mprec@1: %0.3e\" % mpreck[0], \"mprec@3: %0.3e\" % mpreck[2], \"mprec@5: %0.3e\" % mpreck[4] )"
   ]
  },
  {
   "cell_type": "code",
   "execution_count": 22,
   "id": "6d76b887",
   "metadata": {},
   "outputs": [],
   "source": [
    "acc=accuracy_score(y_test, y_pred )"
   ]
  },
  {
   "cell_type": "code",
   "execution_count": 23,
   "id": "06476943",
   "metadata": {},
   "outputs": [
    {
     "data": {
      "text/plain": [
       "0.744"
      ]
     },
     "execution_count": 23,
     "metadata": {},
     "output_type": "execute_result"
    }
   ],
   "source": [
    "acc"
   ]
  },
  {
   "cell_type": "code",
   "execution_count": 24,
   "id": "6d4e6dd9",
   "metadata": {},
   "outputs": [],
   "source": [
    "# npzModel = np.load( \"model.npz\" )\n",
    "# model = npzModel[npzModel.files[0]]\n",
    "# \t# Let us predict a random subset of the 2k most popular labels no matter what the test point\n",
    "# shortList = model[0:2*5]\n",
    "# (i,j)=np.unique(model,return_index=True)\n",
    "# print(shortList)\n",
    "# print(model)\n",
    "# print(i)\n",
    "# print (j)"
   ]
  },
  {
   "cell_type": "code",
   "execution_count": 25,
   "id": "e9b1959a",
   "metadata": {},
   "outputs": [],
   "source": [
    "# a=np.array([4,3])\n",
    "# b=np.array([[2,3, 6,22,2],[3,9,7,49,5]])\n",
    "# utils.validateAndCleanup(a,b,5)"
   ]
  },
  {
   "cell_type": "code",
   "execution_count": 26,
   "id": "1bb68f14",
   "metadata": {},
   "outputs": [],
   "source": [
    "lr=LogisticRegression(max_iter=1000)\n",
    "\n",
    "lr.fit(X_train, y_train)\n",
    "y_pred2=lr.predict(X_test)\n",
    "acc2=accuracy_score(y_test,y_pred2)\n",
    "proba=lr.predict_proba(X_test)"
   ]
  },
  {
   "cell_type": "code",
   "execution_count": 27,
   "id": "2cc179d2",
   "metadata": {},
   "outputs": [],
   "source": [
    "ind = np.argsort(proba)[:,-1:-6:-1]"
   ]
  },
  {
   "cell_type": "code",
   "execution_count": 28,
   "id": "078dfdf0",
   "metadata": {},
   "outputs": [
    {
     "name": "stdout",
     "output_type": "stream",
     "text": [
      "0.804\n",
      "(2000, 5)\n"
     ]
    }
   ],
   "source": [
    "print (acc2)\n",
    "print (ind.shape)"
   ]
  },
  {
   "cell_type": "code",
   "execution_count": 29,
   "id": "cf6fd294",
   "metadata": {},
   "outputs": [],
   "source": [
    "# a=proba[0,:].sum()\n",
    "# print(a)\n",
    "# print (proba.shape)"
   ]
  },
  {
   "cell_type": "code",
   "execution_count": 30,
   "id": "31f16b87",
   "metadata": {},
   "outputs": [],
   "source": [
    "yPred = lr.classes_[ind]"
   ]
  },
  {
   "cell_type": "code",
   "execution_count": 31,
   "id": "fcd54bb5",
   "metadata": {},
   "outputs": [
    {
     "name": "stdout",
     "output_type": "stream",
     "text": [
      "prec@1: 0.804 prec@3: 0.930 prec@5: 0.964\n",
      "mprec@1: 5.376e-01 mprec@3: 7.528e-01 mprec@5: 8.448e-01\n"
     ]
    }
   ],
   "source": [
    "preck = utils.getPrecAtK( y_test, yPred, 5 )\n",
    "# The macro precision code takes a bit longer to execute due to the for loop over labels\n",
    "mpreck = utils.getMPrecAtK( y_test,yPred, 5 )\n",
    "\n",
    "# According to our definitions, both prec@k and mprec@k should go up as k goes up i.e. for your\n",
    "# method, prec@i > prec@j if i > j and mprec@i > mprec@j if i > j. See the assignment description\n",
    "# to convince yourself why this must be the case.\n",
    "\n",
    "print( \"prec@1: %0.3f\" % preck[0], \"prec@3: %0.3f\" % preck[2], \"prec@5: %0.3f\" % preck[4] )\n",
    "# Dont be surprised if mprec is small -- it is hard to do well on rare error classes\n",
    "print( \"mprec@1: %0.3e\" % mpreck[0], \"mprec@3: %0.3e\" % mpreck[2], \"mprec@5: %0.3e\" % mpreck[4] )"
   ]
  },
  {
   "cell_type": "code",
   "execution_count": 32,
   "id": "16732c8b",
   "metadata": {},
   "outputs": [],
   "source": [
    "params=np.zeros((50, 225))\n",
    "for i in range (50):\n",
    "\ttemp=X_train[y_train==i+1]\n",
    "\tif temp.shape[0]!=0:\n",
    "\t\ttemp2=temp.sum(axis=0)/temp.shape[0]\n",
    "\t\tparams[i,:]=temp2[np.newaxis,:]"
   ]
  },
  {
   "cell_type": "code",
   "execution_count": 33,
   "id": "2051a9ef",
   "metadata": {},
   "outputs": [
    {
     "data": {
      "text/plain": [
       "(50, 225)"
      ]
     },
     "execution_count": 33,
     "metadata": {},
     "output_type": "execute_result"
    }
   ],
   "source": [
    "params.shape"
   ]
  },
  {
   "cell_type": "code",
   "execution_count": 34,
   "id": "0ecbe7a9",
   "metadata": {},
   "outputs": [
    {
     "data": {
      "text/plain": [
       "(2000, 225)"
      ]
     },
     "execution_count": 34,
     "metadata": {},
     "output_type": "execute_result"
    }
   ],
   "source": [
    "X_test.shape"
   ]
  },
  {
   "cell_type": "code",
   "execution_count": 35,
   "id": "c25f2b21",
   "metadata": {},
   "outputs": [],
   "source": [
    "X_test_temp=X_test.reshape(X_test.shape[0],1,-1)"
   ]
  },
  {
   "cell_type": "code",
   "execution_count": 36,
   "id": "860a7551",
   "metadata": {},
   "outputs": [
    {
     "data": {
      "text/plain": [
       "(2000, 1, 225)"
      ]
     },
     "execution_count": 36,
     "metadata": {},
     "output_type": "execute_result"
    }
   ],
   "source": [
    "X_test_temp.shape"
   ]
  },
  {
   "cell_type": "code",
   "execution_count": 37,
   "id": "697396d0",
   "metadata": {},
   "outputs": [],
   "source": [
    "delta=params-X_test_temp"
   ]
  },
  {
   "cell_type": "code",
   "execution_count": 38,
   "id": "61356135",
   "metadata": {},
   "outputs": [
    {
     "data": {
      "text/plain": [
       "(2000, 50, 225)"
      ]
     },
     "execution_count": 38,
     "metadata": {},
     "output_type": "execute_result"
    }
   ],
   "source": [
    "delta.shape"
   ]
  },
  {
   "cell_type": "code",
   "execution_count": 39,
   "id": "06a7b995",
   "metadata": {},
   "outputs": [],
   "source": [
    "squared_deltas = np.square(delta)\n",
    "\n",
    "# Sum along the row elements i.e. Vertical summation\n",
    "squared_deltas_sum = squared_deltas.sum(axis=2)\n",
    "\n",
    "# Calculate the square root of squared_deltas_sum\n",
    "distances = np.sqrt(squared_deltas_sum)"
   ]
  },
  {
   "cell_type": "code",
   "execution_count": 40,
   "id": "fa8993ab",
   "metadata": {},
   "outputs": [
    {
     "data": {
      "text/plain": [
       "(2000, 50)"
      ]
     },
     "execution_count": 40,
     "metadata": {},
     "output_type": "execute_result"
    }
   ],
   "source": [
    "distances.shape"
   ]
  },
  {
   "cell_type": "code",
   "execution_count": 41,
   "id": "fa06677d",
   "metadata": {},
   "outputs": [
    {
     "data": {
      "text/plain": [
       "array([[2.61590465, 2.73194483, 3.40294864, ..., 3.3936922 , 3.84960315,\n",
       "        3.54115693],\n",
       "       [3.16687311, 2.65407918, 2.78364051, ..., 3.44245263, 3.64958141,\n",
       "        2.61417483],\n",
       "       [2.19307878, 2.18177946, 2.94717569, ..., 2.74174156, 3.69496655,\n",
       "        3.15460887],\n",
       "       ...,\n",
       "       [4.35347017, 4.0965938 , 3.97074757, ..., 3.85843455, 4.58106004,\n",
       "        4.10291482],\n",
       "       [4.2063884 , 3.98606998, 3.68242104, ..., 4.15426137, 3.58042518,\n",
       "        3.85148154],\n",
       "       [9.3979958 , 9.07139007, 8.82510843, ..., 9.11239076, 9.43324499,\n",
       "        9.10777454]])"
      ]
     },
     "execution_count": 41,
     "metadata": {},
     "output_type": "execute_result"
    }
   ],
   "source": [
    "distances"
   ]
  },
  {
   "cell_type": "code",
   "execution_count": 42,
   "id": "39d33e60",
   "metadata": {},
   "outputs": [],
   "source": [
    "index = np.argsort(distances, axis=1)[:,:5]"
   ]
  },
  {
   "cell_type": "code",
   "execution_count": 43,
   "id": "7841655b",
   "metadata": {},
   "outputs": [
    {
     "data": {
      "text/plain": [
       "array([[17,  0,  1, 36, 21],\n",
       "       [43, 42, 23, 11, 40],\n",
       "       [36, 17,  1,  0, 34],\n",
       "       ...,\n",
       "       [29, 12, 46, 22,  4],\n",
       "       [ 6, 25,  3, 48,  9],\n",
       "       [33, 20, 10, 39, 30]], dtype=int64)"
      ]
     },
     "execution_count": 43,
     "metadata": {},
     "output_type": "execute_result"
    }
   ],
   "source": [
    "index"
   ]
  },
  {
   "cell_type": "code",
   "execution_count": 44,
   "id": "2b322597",
   "metadata": {},
   "outputs": [],
   "source": [
    "yPred3=index+1"
   ]
  },
  {
   "cell_type": "code",
   "execution_count": 45,
   "id": "28bd2725",
   "metadata": {},
   "outputs": [
    {
     "name": "stdout",
     "output_type": "stream",
     "text": [
      "prec@1: 0.239 prec@3: 0.473 prec@5: 0.578\n",
      "mprec@1: 3.878e-01 mprec@3: 5.347e-01 mprec@5: 6.338e-01\n"
     ]
    }
   ],
   "source": [
    "preck = utils.getPrecAtK( y_test, yPred3, 5 )\n",
    "# The macro precision code takes a bit longer to execute due to the for loop over labels\n",
    "mpreck = utils.getMPrecAtK( y_test,yPred3, 5 )\n",
    "\n",
    "# According to our definitions, both prec@k and mprec@k should go up as k goes up i.e. for your\n",
    "# method, prec@i > prec@j if i > j and mprec@i > mprec@j if i > j. See the assignment description\n",
    "# to convince yourself why this must be the case.\n",
    "\n",
    "print( \"prec@1: %0.3f\" % preck[0], \"prec@3: %0.3f\" % preck[2], \"prec@5: %0.3f\" % preck[4] )\n",
    "# Dont be surprised if mprec is small -- it is hard to do well on rare error classes\n",
    "print( \"mprec@1: %0.3e\" % mpreck[0], \"mprec@3: %0.3e\" % mpreck[2], \"mprec@5: %0.3e\" % mpreck[4] )"
   ]
  },
  {
   "cell_type": "code",
   "execution_count": null,
   "id": "198a8292",
   "metadata": {},
   "outputs": [],
   "source": []
  }
 ],
 "metadata": {
  "kernelspec": {
   "display_name": "Python 3 (ipykernel)",
   "language": "python",
   "name": "python3"
  },
  "language_info": {
   "codemirror_mode": {
    "name": "ipython",
    "version": 3
   },
   "file_extension": ".py",
   "mimetype": "text/x-python",
   "name": "python",
   "nbconvert_exporter": "python",
   "pygments_lexer": "ipython3",
   "version": "3.10.5"
  }
 },
 "nbformat": 4,
 "nbformat_minor": 5
}
