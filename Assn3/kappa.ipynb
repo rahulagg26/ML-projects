{
 "cells": [
  {
   "cell_type": "code",
   "execution_count": 66,
   "id": "e766bf58",
   "metadata": {},
   "outputs": [],
   "source": [
    "import numpy as np\n",
    "import pandas as pd \n",
    "import matplotlib.pyplot as plt\n",
    "import tensorflow as tf\n",
    "from tensorflow import keras\n",
    "from tensorflow.keras import layers\n",
    "from time import perf_counter \n",
    "import os\n",
    "import cv2\n",
    "from tensorflow.keras.models import Sequential\n",
    "from keras.utils.vis_utils import plot_model\n",
    "from PIL import Image"
   ]
  },
  {
   "cell_type": "code",
   "execution_count": null,
   "id": "a0ac21f6",
   "metadata": {},
   "outputs": [],
   "source": []
  },
  {
   "cell_type": "code",
   "execution_count": 67,
   "id": "0c700ca1",
   "metadata": {
    "scrolled": true
   },
   "outputs": [
    {
     "name": "stdout",
     "output_type": "stream",
     "text": [
      "Found 2000 files belonging to 1 classes.\n"
     ]
    }
   ],
   "source": [
    "train_ds =  tf.keras.preprocessing.image_dataset_from_directory(\n",
    "    'train',\n",
    "    seed=40,\n",
    "    color_mode = 'grayscale'\n",
    "    )\n",
    "\n",
    "#OR\n",
    "\n",
    "# training = tf.keras.utils.image_dataset_from_directory(\n",
    "#     'train',\n",
    "#     color_mode = 'grayscale'\n",
    "#     )"
   ]
  },
  {
   "cell_type": "code",
   "execution_count": 288,
   "id": "3ec4dbdd",
   "metadata": {
    "scrolled": true
   },
   "outputs": [],
   "source": [
    "# plt.figure(figsize=(8, 8))\n",
    "# for images, labels in train_ds.take(1):\n",
    "#   for i in range(6):\n",
    "#     ax = plt.subplot(3, 3, i+1)\n",
    "#     plt.imshow(images[i].numpy().astype(\"uint8\"), cmap = 'gray')\n",
    "#     #plt.title(class_names[labels[i]])\n",
    "#     plt.axis(\"off\")"
   ]
  },
  {
   "cell_type": "code",
   "execution_count": null,
   "id": "af771ec2",
   "metadata": {},
   "outputs": [],
   "source": []
  },
  {
   "cell_type": "code",
   "execution_count": null,
   "id": "9df0eb4e",
   "metadata": {},
   "outputs": [],
   "source": []
  },
  {
   "cell_type": "code",
   "execution_count": 70,
   "id": "1865d154",
   "metadata": {},
   "outputs": [],
   "source": [
    "# gray = cv2.cvtColor(image, cv2.COLOR_RGB2GRAY)\n",
    "# # gray = cv2.imread('D:/Y/0.png', 0)\n",
    "# # cv2.imwrite('gray.png', gray)\n",
    "# plt.imshow(gray,cmap='gray')\n",
    "\n",
    "# img = cv2.imread('D:/Y/0.png', 0)\n",
    "# hh, ww = img.shape[:2]\n",
    "# print(hh, ww)\n",
    "# img.shape"
   ]
  },
  {
   "cell_type": "code",
   "execution_count": 137,
   "id": "93cba86f",
   "metadata": {},
   "outputs": [],
   "source": []
  },
  {
   "cell_type": "code",
   "execution_count": 276,
   "id": "3f327d68",
   "metadata": {},
   "outputs": [
    {
     "name": "stdout",
     "output_type": "stream",
     "text": [
      "225 225\n"
     ]
    }
   ],
   "source": [
    "image = cv2.imread('D:/Y/1.png', 0)\n",
    "#ret,thresh = cv2.threshold(image, 0, 255, cv2.THRESH_BINARY_INV|cv2.THRESH_OTSU)\n",
    "\n",
    "bg=image[0,0]\n",
    "bg1=image[149,0]\n",
    "print(bg, bg1)"
   ]
  },
  {
   "cell_type": "code",
   "execution_count": 329,
   "id": "79e16267",
   "metadata": {},
   "outputs": [
    {
     "data": {
      "text/plain": [
       "True"
      ]
     },
     "execution_count": 329,
     "metadata": {},
     "output_type": "execute_result"
    }
   ],
   "source": [
    "img = cv2.imread('D:/Y/1.png', 0)\n",
    "ret,thresh = cv2.threshold(img, 0, 255, cv2.THRESH_BINARY_INV|cv2.THRESH_OTSU)\n",
    "kernel = np.ones((4,3),np.uint8)\n",
    "erosion = cv2.erode(thresh,kernel,iterations = 1)\n",
    "cv2.imwrite('thin.png', erosion)\n",
    "img=255-erosion\n",
    "cv2.imwrite('final.png', img)"
   ]
  },
  {
   "cell_type": "code",
   "execution_count": 330,
   "id": "efcd4342",
   "metadata": {},
   "outputs": [
    {
     "data": {
      "text/plain": [
       "<matplotlib.image.AxesImage at 0x1f1e9767748>"
      ]
     },
     "execution_count": 330,
     "metadata": {},
     "output_type": "execute_result"
    },
    {
     "data": {
      "image/png": "[encoded data removed]",
      "text/plain": [
       "<Figure size 640x480 with 1 Axes>"
      ]
     },
     "metadata": {},
     "output_type": "display_data"
    }
   ],
   "source": [
    "plt.imshow(img, cmap = 'gray')"
   ]
  },
  {
   "cell_type": "code",
   "execution_count": 325,
   "id": "8fd135fa",
   "metadata": {},
   "outputs": [
    {
     "data": {
      "text/plain": [
       "150"
      ]
     },
     "execution_count": 325,
     "metadata": {},
     "output_type": "execute_result"
    }
   ],
   "source": [
    "bg=img[0,0]\n",
    "arr =[]\n",
    "for i in range(500):\n",
    "    x = np.sum((img[:,i]==bg))\n",
    "    \n",
    "    if x < 145:\n",
    "        "
   ]
  },
  {
   "cell_type": "code",
   "execution_count": null,
   "id": "db5aa876",
   "metadata": {},
   "outputs": [],
   "source": []
  },
  {
   "cell_type": "code",
   "execution_count": 299,
   "id": "7921095d",
   "metadata": {},
   "outputs": [],
   "source": [
    "image = cv2.imread('D:/Y/1.png', 0)\n",
    "ret, img = cv2.threshold(img, 0, 255, cv2.THRESH_BINARY_INV|cv2.THRESH_OTSU)\n",
    "img \n",
    "for i in range()\n",
    "\n"
   ]
  },
  {
   "cell_type": "code",
   "execution_count": null,
   "id": "ddfd033a",
   "metadata": {},
   "outputs": [],
   "source": []
  },
  {
   "cell_type": "code",
   "execution_count": null,
   "id": "02cf6c44",
   "metadata": {},
   "outputs": [],
   "source": []
  },
  {
   "cell_type": "code",
   "execution_count": null,
   "id": "1f73d506",
   "metadata": {},
   "outputs": [],
   "source": []
  },
  {
   "cell_type": "code",
   "execution_count": null,
   "id": "a9e65647",
   "metadata": {},
   "outputs": [],
   "source": []
  },
  {
   "cell_type": "code",
   "execution_count": null,
   "id": "99499365",
   "metadata": {},
   "outputs": [],
   "source": []
  },
  {
   "cell_type": "code",
   "execution_count": null,
   "id": "0f062883",
   "metadata": {},
   "outputs": [],
   "source": []
  },
  {
   "cell_type": "code",
   "execution_count": null,
   "id": "e855945d",
   "metadata": {},
   "outputs": [],
   "source": []
  },
  {
   "cell_type": "code",
   "execution_count": null,
   "id": "ccd6b836",
   "metadata": {},
   "outputs": [],
   "source": []
  },
  {
   "cell_type": "code",
   "execution_count": null,
   "id": "68538d6b",
   "metadata": {},
   "outputs": [],
   "source": []
  },
  {
   "cell_type": "code",
   "execution_count": null,
   "id": "0dce0b8c",
   "metadata": {},
   "outputs": [],
   "source": []
  },
  {
   "cell_type": "code",
   "execution_count": null,
   "id": "17604736",
   "metadata": {},
   "outputs": [],
   "source": []
  },
  {
   "cell_type": "code",
   "execution_count": null,
   "id": "974257e2",
   "metadata": {},
   "outputs": [],
   "source": []
  },
  {
   "cell_type": "code",
   "execution_count": 270,
   "id": "ab4be247",
   "metadata": {},
   "outputs": [],
   "source": [
    "# image = cv2.imread('D:/Y/0.png', 0)\n",
    "\n",
    "# ret,thresh = cv2.threshold(image, 0, 255, cv2.THRESH_BINARY_INV|cv2.THRESH_OTSU)\n",
    "# #print(thresh[1,0])\n",
    "\n",
    "# kernel = cv2.getStructuringElement(cv2.MORPH_RECT, (1,1)bg)\n",
    "# morph_img = cv2.morphologyEx(thresh, cv2.MORPH_CLOSE, kernel)\n",
    "\n",
    "# # # Remove horizontal\n",
    "# horizontal_kernel = cv2.getStructuringElement(cv2.MORPH_RECT, (1,1))\n",
    "# detected_lines = cv2.morphologyEx(thresh, cv2.MORPH_OPEN, horizontal_kernel, iterations=100)\n",
    "# cnts = cv2.findContours(morph_img, cv2.RETR_EXTERNAL, cv2.CHAIN_APPROX_SIMPLE)\n",
    "# cnts = cnts[0] if len(cnts) == 2 else cnts[1]\n",
    "# for c in cnts:\n",
    "#     erosion = cv2.erode(image,kernel,iterations = 1)\n",
    "#     cv2.drawContours(image, [c], -1, (225,225), 1)\n",
    "\n",
    "# # Repair image\n",
    "# repair_kernel = cv2.getStructuringElement(cv2.MORPH_RECT, (1,1))\n",
    "# result = 255 - cv2.morphologyEx(255 - image, cv2.MORPH_CLOSE, repair_kernel, iterations=1)\n",
    "\n",
    "# cv2.imwrite('thresh.png', thresh)\n",
    "# cv2.imwrite('detected_lines.png', detected_lines)\n",
    "# cv2.imwrite('image.png', image)\n",
    "# cv2.imwrite('result.png', result)"
   ]
  },
  {
   "cell_type": "code",
   "execution_count": null,
   "id": "5f6a1eed",
   "metadata": {},
   "outputs": [],
   "source": []
  },
  {
   "cell_type": "code",
   "execution_count": 286,
   "id": "35d0419a",
   "metadata": {},
   "outputs": [],
   "source": [
    "# def get_center_of_mass(img):\n",
    "#         Y,X = ndimage.measurements.center_of_mass(img)\n",
    "#         x,y = img.shape\n",
    "#         delta_x = np.round(y/2.0-X).astype(int)\n",
    "#         delta_y = np.round(x/2.0-Y).astype(int)\n",
    "#         return delta_x, delta_y\n",
    "    \n",
    "# def get_to_center(image ,x, y):\n",
    "\n",
    "#         (rows , cols) = image.shape\n",
    "#         M = np.float32([[1,0,x],[0,1,y]])\n",
    "#         centered = cv2.warpAffine(image,M,(cols,rows))\n",
    "#         return centered \n",
    "    \n",
    "# def preprocessing(img):\n",
    "        \n",
    "#         #cimg=255-np.array(img).astype(np.uint8)\n",
    "#         #cimg = cv2.cvtColor(cimg, cv2.COLOR_BGR2GRAY)\n",
    "#         #(T, cimg) = cv2.threshold(cimg, 127, 255,\n",
    "# \t#cv2.THRESH_BINARY_INV )\n",
    "        \n",
    "#         image = cv2.resize(img, (150,150))\n",
    "#         gray = cv2.cvtColor(image, cv2.COLOR_BGR2GRAY)\n",
    "#         (T, threshInv) = cv2.threshold(gray.copy(), 127, 255,\n",
    "#             cv2.THRESH_BINARY_INV )\n",
    "\n",
    "#         kernel2 = np.full([3, 3], 10000, dtype=np.int32)\n",
    "#         kernel_2 = cv2.getStructuringElement(cv2.MORPH_RECT,(3,3))\n",
    "#         cimg = cv2.erode(threshInv, kernel_2, iterations= 1)\n",
    "#         #cimg = cv.adaptiveThreshold(img,255,cv.ADAPTIVE_THRESH_GAUSSIAN_C,\\\n",
    "#            # cv.THRESH_BINARY,3,1)\n",
    "\n",
    "#         #cimg = cv.adaptiveThreshold(img,255,cv.ADAPTIVE_THRESH_MEAN_C,\\\n",
    "#            # cv.THRESH_BINARY,11,2)\n",
    "    \n",
    "#         while np.sum(cimg[0]) == 0:  #making squared image with respective pixels\n",
    "#             cimg = cimg[1:]\n",
    "\n",
    "#         while np.sum(cimg[0,:]) == 0:\n",
    "#             cimg = cimg[:,1:]\n",
    "\n",
    "#         while np.sum(cimg[-1]) == 0:\n",
    "#             cimg = cimg[:-1]\n",
    "\n",
    "#         while np.sum(cimg[:, -1])==0:\n",
    "#             cimg = cimg[:,:-1]\n",
    "            \n",
    "#         rows,cols = cimg.shape\n",
    "        \n",
    "#         if rows == cols:\n",
    "#             nrows = 130\n",
    "#             ncols = 130\n",
    "#             cimg = cv2.resize(cimg, (ncols,nrows))\n",
    "           \n",
    "\n",
    "#         if rows > cols:\n",
    "#             nrows = 130\n",
    "#             ncols = int(round((cols*130.0/rows), 0))\n",
    "#             cimg = cv2.resize(cimg, (ncols,nrows))\n",
    "            \n",
    "#         else:\n",
    "#             ncols = 130\n",
    "#             nrows = int(round((rows*130.0/cols), 0))\n",
    "            \n",
    "#             cimg = cv2.resize(cimg, (ncols,nrows))\n",
    "            \n",
    "                             \n",
    "    \n",
    "#         col_pad = (int(math.ceil((150-ncols)/2.0)), int(math.floor((150-ncols)/2.0)))\n",
    "\n",
    "#         row_pad = (int(math.ceil((150-nrows)/2.0)), int(math.floor((150-nrows)/2.0)))\n",
    "#         cimg = np.lib.pad(cimg,(row_pad,col_pad),'constant')\n",
    "#         del_x, del_y = get_center_of_mass(cimg) \n",
    "#         centered = get_to_center(cimg ,del_x, del_y)\n",
    "         \n",
    "#         ximg = centered.reshape(1,150,150).astype(np.float32)\n",
    "#         ximg-= int(33.3952)\n",
    "#         ximg/= int(78.6662)\n",
    "#         return ximg        "
   ]
  },
  {
   "cell_type": "code",
   "execution_count": 287,
   "id": "f2db1d9a",
   "metadata": {},
   "outputs": [],
   "source": [
    "# img = cv2.imread('D:/Y/1.png', 0)\n",
    "# fimage = preprocessing(img)"
   ]
  },
  {
   "cell_type": "code",
   "execution_count": null,
   "id": "7607065c",
   "metadata": {},
   "outputs": [],
   "source": []
  }
 ],
 "metadata": {
  "kernelspec": {
   "display_name": "Python 3 (ipykernel)",
   "language": "python",
   "name": "python3"
  },
  "language_info": {
   "codemirror_mode": {
    "name": "ipython",
    "version": 3
   },
   "file_extension": ".py",
   "mimetype": "text/x-python",
   "name": "python",
   "nbconvert_exporter": "python",
   "pygments_lexer": "ipython3",
   "version": "3.7.6"
  }
 },
 "nbformat": 4,
 "nbformat_minor": 5
}
